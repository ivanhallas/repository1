{
 "cells": [
  {
   "cell_type": "markdown",
   "metadata": {},
   "source": [
    "# Problem set 1: Solving the consumer problem"
   ]
  },
  {
   "cell_type": "markdown",
   "metadata": {},
   "source": [
    "In this first problem set, we will take a look at solving the canonical utility maximization problem for the consumer.  \n",
    "\n",
    "* **Problem set structure:** Each problem set consists of tasks and problems. _Tasks_ train you in using specific techniques, while _problems_ train you in solving actual economic problems. Each problem set also contains solutions in hidden cells. *You should really try to solve the tasks and problems on your own before looking at the answers!*\n",
    "\n",
    "> **Workflow:** You goal should, however, not be to write everything from scratch. Finding similar code from the lectures and adjusting it is completely ok. I rarely begin  completely from scratch, I figure out when I last did something similar and copy in the code to begin with.\n",
    "\n",
    "* **Multiple solutions:** Within the field of numerical analysis there is often many more than one way of solving a specific problem. So the solution provided is just one example. If you get the same result, but use another approach, that might be just as good (or even better).\n",
    "\n",
    "* **Extra problems:** Solutions to the extra problems are not provided, but we encourage you to take a look at them if you have the time. You can share your solution with your fellow students following this [guide](https://numeconcopenhagen.netlify.com/guides/snippets/).\n",
    "\n"
   ]
  },
  {
   "cell_type": "markdown",
   "metadata": {},
   "source": [
    "# Tasks"
   ]
  },
  {
   "cell_type": "markdown",
   "metadata": {},
   "source": [
    "## functions"
   ]
  },
  {
   "cell_type": "markdown",
   "metadata": {},
   "source": [
    "Implement a Python version of this function:"
   ]
  },
  {
   "cell_type": "markdown",
   "metadata": {},
   "source": [
    "\\\\[ u(x_1,x_2) = (\\alpha x_1^{-\\beta} + (1-\\alpha) x_2^{-\\beta})^{-1/\\beta} \\\\]"
   ]
  },
  {
   "cell_type": "code",
   "execution_count": 1,
   "metadata": {},
   "outputs": [],
   "source": [
    "# write your code here"
   ]
  },
  {
   "cell_type": "markdown",
   "metadata": {},
   "source": [
    "**Answer:**"
   ]
  },
  {
   "cell_type": "code",
   "execution_count": 2,
   "metadata": {
    "jupyter": {
     "source_hidden": true
    }
   },
   "outputs": [],
   "source": [
    "def u(x1,x2,alpha=0.5,beta=1):\n",
    "    return (alpha*x1**(-beta) + (1-alpha)*x2**(-beta))**(-1/beta)"
   ]
  },
  {
   "cell_type": "markdown",
   "metadata": {},
   "source": [
    "## print"
   ]
  },
  {
   "cell_type": "code",
   "execution_count": 3,
   "metadata": {},
   "outputs": [],
   "source": [
    "x1_vec = [1.05,1.3,2.3,2.5,3.1]\n",
    "x2_vec = [1.05,1.3,2.3,2.5,3.1]"
   ]
  },
  {
   "cell_type": "markdown",
   "metadata": {},
   "source": [
    "Construct a Python function `print_table(x1_vec,x2_vec)` to print values of `u(x1,x2)` in the table form shown below."
   ]
  },
  {
   "cell_type": "code",
   "execution_count": 4,
   "metadata": {},
   "outputs": [],
   "source": [
    "# update this code\n",
    "\n",
    "def print_table(x1_vec,x2_vec):\n",
    "    \n",
    "    # a. empty text\n",
    "    text = ''\n",
    "    \n",
    "    # b. top header\n",
    "    text += f'{\"\":3s}'\n",
    "    for j, x2 in enumerate(x2_vec):\n",
    "       text += f'{j:6d}' \n",
    "    text += '\\n' # line shift\n",
    "    \n",
    "    # c. body\n",
    "    # missing lines\n",
    "    \n",
    "    # d. print\n",
    "    print(text) "
   ]
  },
  {
   "cell_type": "markdown",
   "metadata": {},
   "source": [
    "**Answer:**"
   ]
  },
  {
   "cell_type": "code",
   "execution_count": 5,
   "metadata": {
    "jupyter": {
     "source_hidden": true
    }
   },
   "outputs": [
    {
     "name": "stdout",
     "output_type": "stream",
     "text": [
      "        0     1     2     3     4\n",
      "  0  1.050 1.162 1.442 1.479 1.569\n",
      "  1  1.162 1.300 1.661 1.711 1.832\n",
      "  2  1.442 1.661 2.300 2.396 2.641\n",
      "  3  1.479 1.711 2.396 2.500 2.768\n",
      "  4  1.569 1.832 2.641 2.768 3.100\n"
     ]
    }
   ],
   "source": [
    "def print_table(x1_vec,x2_vec):\n",
    "    \n",
    "    # a. empty text\n",
    "    text = ''\n",
    "    \n",
    "    # b. top header\n",
    "    text += f'{\"\":3s}'\n",
    "    for j, x2 in enumerate(x2_vec):\n",
    "       text += f'{j:6d}' \n",
    "    text += '\\n' # line shift\n",
    "    \n",
    "    # c. body\n",
    "    for i,x1 in enumerate(x1_vec):\n",
    "        if i > 0:\n",
    "            text += '\\n' # line shift\n",
    "        text += f'{i:3d} ' # left header\n",
    "        for j, x2 in enumerate(x2_vec):\n",
    "            text += f'{u(x1,x2):6.3f}'\n",
    "    \n",
    "    # d. print\n",
    "    print(text)\n",
    "\n",
    "print_table(x1_vec,x2_vec)"
   ]
  },
  {
   "cell_type": "markdown",
   "metadata": {},
   "source": [
    "## matplotlib"
   ]
  },
  {
   "cell_type": "markdown",
   "metadata": {},
   "source": [
    "Reproduce the figure below of \\\\(u(x_1,x_2)\\\\) using the `meshgrid` function from _numpy_ and the `plot_surface` function from _matplotlib_. "
   ]
  },
  {
   "cell_type": "code",
   "execution_count": 6,
   "metadata": {},
   "outputs": [],
   "source": [
    "# evaluate utility function\n",
    "import numpy as np\n",
    "x1_grid,x2_grid = np.meshgrid(x1_vec,x2_vec,indexing='ij')\n",
    "u_grid = u(x1_grid,x2_grid)\n",
    "\n",
    "# import plot modules\n",
    "%matplotlib inline\n",
    "import matplotlib.pyplot as plt\n",
    "from mpl_toolkits.mplot3d import Axes3D\n",
    "from matplotlib import cm # for colormaps\n",
    "\n",
    "# write your code here"
   ]
  },
  {
   "cell_type": "markdown",
   "metadata": {},
   "source": [
    "**Answer:**"
   ]
  },
  {
   "cell_type": "code",
   "execution_count": 7,
   "metadata": {
    "jupyter": {
     "source_hidden": true
    }
   },
   "outputs": [
    {
     "data": {
      "image/png": "[encoded data removed]",
      "text/plain": [
       "<Figure size 432x288 with 1 Axes>"
      ]
     },
     "metadata": {
      "needs_background": "light"
     },
     "output_type": "display_data"
    }
   ],
   "source": [
    "# a. plot\n",
    "fig = plt.figure()\n",
    "ax = fig.add_subplot(1,1,1,projection='3d')\n",
    "ax.plot_surface(x1_grid,x2_grid,u_grid,cmap=cm.jet)\n",
    "\n",
    "# b. add labels\n",
    "ax.set_xlabel('$x_1$')\n",
    "ax.set_ylabel('$x_2$')\n",
    "ax.set_zlabel('$utility,u$')\n",
    "\n",
    "# c. invert xaxis\n",
    "ax.invert_xaxis()"
   ]
  },
  {
   "cell_type": "markdown",
   "metadata": {},
   "source": [
    "## optimize"
   ]
  },
  {
   "cell_type": "markdown",
   "metadata": {},
   "source": [
    "Consider the following minimization problem:\n",
    "\n",
    "\\\\[\\min_x  f(x) = \\min_x \\sin(x) + 0.05 \\cdot x^2 \\\\]"
   ]
  },
  {
   "cell_type": "markdown",
   "metadata": {},
   "source": [
    "Solve this problem and illustrate your results."
   ]
  },
  {
   "cell_type": "code",
   "execution_count": 8,
   "metadata": {},
   "outputs": [],
   "source": [
    "# update this code\n",
    "\n",
    "# a. define function\n",
    "def f(x):\n",
    "    return 0 # wrong line\n",
    "\n",
    "# b. solution using a loop\n",
    "import numpy as np\n",
    "N = 100\n",
    "x_vec = np.linspace(-10,10,N)\n",
    "f_vec = np.empty(N)\n",
    "\n",
    "f_best = np.inf # initial maximum\n",
    "x_best = np.nan # not-a-number\n",
    "\n",
    "for i,x in enumerate(x_vec):\n",
    "    f_now = f_vec[i] = f(x)\n",
    "    # missing lines\n",
    "\n",
    "# c. solution using scipy optmize\n",
    "from scipy import optimize\n",
    "x_guess = [0]      \n",
    "# missing line, hint: objective_function = lambda x: ?\n",
    "# missing line, hint: res = optimize.minimize(?)\n",
    "# x_best_scipy = res.x[0]\n",
    "# f_best_scipy = res.fun\n",
    "\n",
    "# d. print\n",
    "# missing lines\n",
    "\n",
    "# e. figure\n",
    "# missing lines"
   ]
  },
  {
   "cell_type": "markdown",
   "metadata": {},
   "source": [
    "**Answer:**"
   ]
  },
  {
   "cell_type": "code",
   "execution_count": 9,
   "metadata": {
    "jupyter": {
     "source_hidden": true
    }
   },
   "outputs": [
    {
     "name": "stdout",
     "output_type": "stream",
     "text": [
      "best with loop is           -0.88366802 at x = -1.51515152\n",
      "best with scipy.optimize is -0.88786283 at x = -1.42756250\n"
     ]
    },
    {
     "data": {
      "image/png": "[encoded data removed]",
      "text/plain": [
       "<Figure size 432x288 with 1 Axes>"
      ]
     },
     "metadata": {
      "needs_background": "light"
     },
     "output_type": "display_data"
    }
   ],
   "source": [
    "# a. define function\n",
    "def f(x):\n",
    "    return np.sin(x)+0.05*x**2\n",
    "\n",
    "# b. solution using a loop\n",
    "import numpy as np\n",
    "N = 100\n",
    "x_vec = np.linspace(-10,10,N)\n",
    "f_vec = np.empty(N)\n",
    "\n",
    "f_best = np.inf # initial maximum\n",
    "x_best = np.nan # not-a-number\n",
    "\n",
    "for i,x in enumerate(x_vec):\n",
    "    f_now = f_vec[i] = f(x)\n",
    "    if f_now < f_best:\n",
    "        x_best = x\n",
    "        f_best = f_now\n",
    "\n",
    "# c. solution using scipy optmize\n",
    "from scipy import optimize\n",
    "x_guess = [0]      \n",
    "objective_function = lambda x: f(x[0])\n",
    "res = optimize.minimize(objective_function, x_guess, method='Nelder-Mead')\n",
    "x_best_scipy = res.x[0]\n",
    "f_best_scipy = res.fun\n",
    "\n",
    "# d. print\n",
    "print(f'best with loop is           {f_best:.8f} at x = {x_best:.8f}')\n",
    "print(f'best with scipy.optimize is {f_best_scipy:.8f} at x = {x_best_scipy:.8f}')\n",
    "\n",
    "# e. figure\n",
    "import matplotlib.pyplot as plt\n",
    "fig = plt.figure() # dpi = dots-per-inch (resolution)\n",
    "ax = fig.add_subplot(1,1,1)\n",
    "\n",
    "ax.plot(x_vec,f_vec,ls='--',lw=2,color='black',label='$f(x)$')\n",
    "ax.plot(x_best,f_best,ls='',marker='s',color='blue',label='loop')\n",
    "ax.plot(x_best_scipy,f_best_scipy,ls='',marker='o',\n",
    "        markersize=10,markerfacecolor='none',\n",
    "        markeredgecolor='red',label='scipy.optimize')\n",
    "\n",
    "ax.set_xlabel('$x$')\n",
    "ax.set_ylabel('$f$')\n",
    "ax.grid(True)\n",
    "ax.legend(loc='upper center');"
   ]
  },
  {
   "cell_type": "markdown",
   "metadata": {},
   "source": [
    "# Problem"
   ]
  },
  {
   "cell_type": "markdown",
   "metadata": {},
   "source": [
    "Consider the following \\\\(M\\\\)-good, \\\\(x=(x_1,x_2,\\dots,x_M)\\\\), **utility maximization problem** with exogenous income \\\\(I\\\\), and price-vector \\\\(p=(p_1,p_2,\\dots,p_M)\\\\),\n",
    "\n",
    "\\\\[\n",
    "\\begin{align}\n",
    "V(p_{1},p_{2},\\dots,,p_{M},I) & = \\max_{x_{1},x_{2},\\dots,x_M} x_{1}^{\\alpha_1} x_{2}^{\\alpha_2} \\dots x_{M}^{\\alpha_M} \\\\\n",
    " & \\text{s.t.}\\\\\n",
    "E = \\sum_{i=1}^{M}p_{i}x_{i} & \\leq I,\\,\\,\\,p_{1},p_{2},\\dots,p_M,I>0\\\\\n",
    "x_{1},x_{2},\\dots,x_M & \\geq 0\n",
    "\\end{align}\n",
    "\\\\]"
   ]
  },
  {
   "cell_type": "markdown",
   "metadata": {},
   "source": [
    "**Problem:** Solve the 5-good utility maximization problem for arbitrary preference parameters, \\\\( \\alpha = (\\alpha_1,\\alpha_2,\\dots,\\alpha_5)\\\\), prices and income. First, with a loop, and then with a numerical optimizer."
   ]
  },
  {
   "cell_type": "markdown",
   "metadata": {},
   "source": [
    "You can use the following functions:"
   ]
  },
  {
   "cell_type": "code",
   "execution_count": 10,
   "metadata": {},
   "outputs": [],
   "source": [
    "def utility_function(x,alpha):\n",
    "    # ensure you understand what this function is doing\n",
    "\n",
    "    u = 1\n",
    "    for x_now,alpha_now in zip(x,alpha):\n",
    "        u *= np.max(x_now,0)**alpha_now\n",
    "    return u\n",
    "    \n",
    "def expenditures(x,p):\n",
    "    # ensure you understand what this function is doing\n",
    "\n",
    "    E = 0\n",
    "    for x_now,p_now in zip(x,p):\n",
    "        E += p_now*x_now\n",
    "    return E\n",
    "\n",
    "def print_solution(x,alpha,I,p):\n",
    "    # you can just use this function\n",
    "    \n",
    "    # a. x values\n",
    "    text = 'x = ['\n",
    "    for x_now in x:\n",
    "        text += f'{x_now:.2f} '\n",
    "    text += f']\\n'\n",
    "    \n",
    "    # b. utility\n",
    "    u = utility_function(x,alpha)    \n",
    "    text += f'utility = {u:.3f}\\n'\n",
    "    \n",
    "    # c. expenditure vs. income\n",
    "    E =  expenditures(x,p)\n",
    "    text += f'E = {E:.2f} <= I = {I:.2f}\\n'\n",
    "    \n",
    "    # d. expenditure shares\n",
    "    e = p*x/I\n",
    "    text += 'expenditure shares = ['\n",
    "    for e_now in e:\n",
    "        text += f'{e_now:.2f} '\n",
    "    text += f']'        \n",
    "        \n",
    "    print(text)"
   ]
  },
  {
   "cell_type": "markdown",
   "metadata": {},
   "source": [
    "You can initially use the following parameter choices:"
   ]
  },
  {
   "cell_type": "code",
   "execution_count": 11,
   "metadata": {},
   "outputs": [],
   "source": [
    "alpha = np.ones(5)/5\n",
    "p = np.array([1,2,3,4,5])\n",
    "I = 10"
   ]
  },
  {
   "cell_type": "markdown",
   "metadata": {},
   "source": [
    "Solving with a loop:"
   ]
  },
  {
   "cell_type": "code",
   "execution_count": 12,
   "metadata": {},
   "outputs": [],
   "source": [
    "# update this code\n",
    "\n",
    "N = 15 # number of points in each dimension\n",
    "fac = np.linspace(0,1,N) # vector betweein 0 and 1\n",
    "x_max = I/p # maximum x so E = I\n",
    "\n",
    "# missing lines\n",
    "for x1 in fac:\n",
    "   for x2 in fac:\n",
    "        for x3 in fac:\n",
    "            for x4 in fac:\n",
    "                for x5 in fac:\n",
    "                    x = np.array([x1,x2,x3,x4,x5])*x_max\n",
    "                    E = expenditures(x,p)\n",
    "                    if E <= I:\n",
    "                        u_now = utility_function(x,alpha)\n",
    "                        # misssing lines\n",
    "\n",
    "# print_solution(x_best,alpha,I,p)"
   ]
  },
  {
   "cell_type": "markdown",
   "metadata": {},
   "source": [
    "> **Extra:** The above code can be written nicer with the ``product`` function from ``itertools``."
   ]
  },
  {
   "cell_type": "markdown",
   "metadata": {},
   "source": [
    "Solving with a numerical optimizer:"
   ]
  },
  {
   "cell_type": "code",
   "execution_count": 13,
   "metadata": {},
   "outputs": [],
   "source": [
    "# update this code\n",
    "\n",
    "from scipy import optimize\n",
    "\n",
    "# a. contraint function (negative if violated)\n",
    "# missing line, hint: constraints = ({'type': 'ineq', 'fun': lambda x: ?})\n",
    "# missing line, hint: bounds = [(?,?) for p_now in p]\n",
    "\n",
    "# b. call optimizer\n",
    "initial_guess = (I/p)/6 # some guess, should be feasible\n",
    "# missing line, hint: res = optimize.minimize(?,?,method='SLSQP',bounds=bounds,constraints=constraints)\n",
    "\n",
    "# print(res.message) # check that the solver has terminated correctly\n",
    "\n",
    "# c. print result\n",
    "# print_solution(res.x,alpha,I,p)"
   ]
  },
  {
   "cell_type": "markdown",
   "metadata": {},
   "source": [
    "## Solutions using loops"
   ]
  },
  {
   "cell_type": "markdown",
   "metadata": {},
   "source": [
    "Using **raw loops**:"
   ]
  },
  {
   "cell_type": "code",
   "execution_count": 14,
   "metadata": {
    "jupyter": {
     "source_hidden": true
    }
   },
   "outputs": [
    {
     "name": "stdout",
     "output_type": "stream",
     "text": [
      "x = [2.14 1.07 0.71 0.36 0.43 ]\n",
      "utility = 0.758\n",
      "E = 10.00 <= I = 10.00\n",
      "expenditure shares = [0.21 0.21 0.21 0.14 0.21 ]\n"
     ]
    }
   ],
   "source": [
    "N = 15 # number of points in each dimension\n",
    "fac = np.linspace(0,1,N) # vector betweein 0 and 1\n",
    "x_max = I/p # maximum x so E = I\n",
    "\n",
    "u_best = -np.inf\n",
    "x_best = np.empty(5)\n",
    "for x1 in fac:\n",
    "   for x2 in fac:\n",
    "        for x3 in fac:\n",
    "            for x4 in fac:\n",
    "                for x5 in fac:\n",
    "                    x = np.array([x1,x2,x3,x4,x5])*x_max\n",
    "                    E = expenditures(x,p)\n",
    "                    if E <= I:\n",
    "                        u_now = utility_function(x,alpha)\n",
    "                        if u_now > u_best:\n",
    "                            x_best = x\n",
    "                            u_best = u_now\n",
    "\n",
    "print_solution(x_best,alpha,I,p)"
   ]
  },
  {
   "cell_type": "markdown",
   "metadata": {},
   "source": [
    "Using **smart itertools loop:**"
   ]
  },
  {
   "cell_type": "code",
   "execution_count": 15,
   "metadata": {
    "jupyter": {
     "source_hidden": true
    }
   },
   "outputs": [
    {
     "name": "stdout",
     "output_type": "stream",
     "text": [
      "x = [2.14 1.07 0.71 0.36 0.43 ]\n",
      "utility = 0.758\n",
      "E = 10.00 <= I = 10.00\n",
      "expenditure shares = [0.21 0.21 0.21 0.14 0.21 ]\n"
     ]
    }
   ],
   "source": [
    "import itertools as it\n",
    "\n",
    "N = 15 # number of points in each dimension\n",
    "fac = np.linspace(0,1,N) # vector betweein 0 and 1\n",
    "x_max = I/p # maximum x so E = I\n",
    "\n",
    "x_best = np.empty(5)\n",
    "u_best = -np.inf\n",
    "for x in it.product(fac,fac,fac,fac,fac):\n",
    "    x *= x_max\n",
    "    E = expenditures(x,p)\n",
    "    if E <= I:\n",
    "        u_now = utility_function(x,alpha)\n",
    "        if u_now > u_best:\n",
    "            x_best = x\n",
    "            u_best = u_now\n",
    "          \n",
    "print_solution(x_best,alpha,I,p)       "
   ]
  },
  {
   "cell_type": "markdown",
   "metadata": {},
   "source": [
    "## Solutions using solvers"
   ]
  },
  {
   "cell_type": "code",
   "execution_count": 16,
   "metadata": {},
   "outputs": [],
   "source": [
    "from scipy import optimize"
   ]
  },
  {
   "cell_type": "markdown",
   "metadata": {},
   "source": [
    "Solution using a **constrained optimizer:**"
   ]
  },
  {
   "cell_type": "code",
   "execution_count": 17,
   "metadata": {
    "jupyter": {
     "source_hidden": true
    }
   },
   "outputs": [
    {
     "name": "stdout",
     "output_type": "stream",
     "text": [
      "Optimization terminated successfully.\n",
      "x = [2.00 1.00 0.67 0.50 0.40 ]\n",
      "utility = 0.768\n",
      "E = 10.00 <= I = 10.00\n",
      "expenditure shares = [0.20 0.20 0.20 0.20 0.20 ]\n"
     ]
    }
   ],
   "source": [
    "# a. contraint function (negative if violated)\n",
    "constraints = ({'type': 'ineq', 'fun': lambda x:  I-expenditures(x,p)})\n",
    "bounds = [(0,I/p_now) for p_now in p]\n",
    "\n",
    "# b. call optimizer\n",
    "initial_guess = (I/p)/6 # some guess, should be feasible\n",
    "res = optimize.minimize(\n",
    "    lambda x: -utility_function(x,alpha),initial_guess,\n",
    "    method='SLSQP',bounds=bounds,constraints=constraints)\n",
    "\n",
    "print(res.message) # check that the solver has terminated correctly\n",
    "\n",
    "# c. print result\n",
    "print_solution(res.x,alpha,I,p)"
   ]
  },
  {
   "cell_type": "markdown",
   "metadata": {},
   "source": [
    "Solution using an **unconstrained optimizer:**"
   ]
  },
  {
   "cell_type": "code",
   "execution_count": 18,
   "metadata": {
    "jupyter": {
     "source_hidden": true
    }
   },
   "outputs": [
    {
     "name": "stdout",
     "output_type": "stream",
     "text": [
      "Optimization terminated successfully.\n",
      "x = [2.00 1.00 0.67 0.50 0.40 ]\n",
      "utility = 0.768\n",
      "E = 10.00 <= I = 10.00\n",
      "expenditure shares = [0.20 0.20 0.20 0.20 0.20 ]\n"
     ]
    }
   ],
   "source": [
    "# a. define objective function\n",
    "def unconstrained_objective(x,alpha,I,p):\n",
    "    \n",
    "    penalty = 0\n",
    "    E = expenditures(x,p)\n",
    "    if E >= I:\n",
    "        ratio = I/E\n",
    "        x *= ratio # now p*x = I\n",
    "        penalty = 1000*(E-I)**2\n",
    "    \n",
    "    u = utility_function(x,alpha)\n",
    "    return -u + penalty \n",
    "    # note: \n",
    "    #  \"-u\" because we are minimizing\n",
    "    #  \"+ penalty\" because the minimizer \n",
    "    #   will then avoid the E > I\n",
    "\n",
    "# b. call optimizer\n",
    "initial_guess = (I/p)/6\n",
    "res = optimize.minimize(\n",
    "    unconstrained_objective,initial_guess,\n",
    "    method='Nelder-Mead',args=(alpha,I,p),options={'maxiter':5000},tol=1e-10)\n",
    "\n",
    "print(res.message)\n",
    "\n",
    "# c. print result\n",
    "print_solution(res.x,alpha,I,p)   "
   ]
  },
  {
   "cell_type": "markdown",
   "metadata": {},
   "source": [
    "# Extra Problems"
   ]
  },
  {
   "cell_type": "markdown",
   "metadata": {},
   "source": [
    "## Cost minimization"
   ]
  },
  {
   "cell_type": "markdown",
   "metadata": {},
   "source": [
    "Consider the following 2-good **cost minimziation problem** with required utility \\\\(u_0\\\\), and price-vector \\\\(p=(p_1,p_2)\\\\),\n",
    "\n",
    "\\\\[\n",
    "\\begin{align}\n",
    "E(p_{1},p_{2},u_0) & = \\min_{x_{1},x_{2}} p_1 x_1+p_2 x_2\\\\\n",
    " & \\text{s.t.}\\\\\n",
    "x_{1}^{\\alpha}x_{2}^{1-\\alpha} & \\geq u_0 \\\\\n",
    "x_{1},x_{2} & \\geq 0\n",
    "\\end{align}\n",
    "\\\\]"
   ]
  },
  {
   "cell_type": "markdown",
   "metadata": {},
   "source": [
    "**Problem:** Solve the 2-good cost-minimization problem with arbitrary required utility, prices and income. Present your results graphically showing that the optimum is a point, where a budgetline is targent to the indifference curve through $u_0$."
   ]
  },
  {
   "cell_type": "markdown",
   "metadata": {},
   "source": [
    "## Classy solution"
   ]
  },
  {
   "cell_type": "markdown",
   "metadata": {},
   "source": [
    "**Problem:** Implement your solution to the utility maximization problem and/or the cost minimization problem above in a class as seen in Lecture 3. "
   ]
  }
 ],
 "metadata": {
  "kernelspec": {
   "display_name": "Python 3",
   "language": "python",
   "name": "python3"
  },
  "language_info": {
   "codemirror_mode": {
    "name": "ipython",
    "version": 3
   },
   "file_extension": ".py",
   "mimetype": "text/x-python",
   "name": "python",
   "nbconvert_exporter": "python",
   "pygments_lexer": "ipython3",
   "version": "3.7.1"
  },
  "toc-autonumbering": true
 },
 "nbformat": 4,
 "nbformat_minor": 2
}
