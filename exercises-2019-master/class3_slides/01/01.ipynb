{
 "cells": [
  {
   "cell_type": "markdown",
   "metadata": {
    "heading_collapsed": true,
    "slideshow": {
     "slide_type": "slide"
    }
   },
   "source": [
    "# WELCOME CLASS 3!"
   ]
  },
  {
   "cell_type": "markdown",
   "metadata": {
    "slideshow": {
     "slide_type": "slide"
    }
   },
   "source": [
    "# ABOUT ME"
   ]
  },
  {
   "cell_type": "markdown",
   "metadata": {
    "slideshow": {
     "slide_type": "subslide"
    }
   },
   "source": [
    "# ABOUT ME\n",
    "- My name is Jakob\n",
    "- At my master in Economics\n",
    "- Research Assistant, co-writer of Introduction to Programming and Numerical Analysis\n",
    "- Python user for around two years\n",
    "- First time teaching course in English"
   ]
  },
  {
   "cell_type": "markdown",
   "metadata": {
    "slideshow": {
     "slide_type": "slide"
    }
   },
   "source": [
    "# PRACTICALITIES"
   ]
  },
  {
   "cell_type": "markdown",
   "metadata": {
    "slideshow": {
     "slide_type": "subslide"
    }
   },
   "source": [
    "# PRACTICALITIES\n",
    "\n",
    "- All materials will be available at our [webpage](https://numeconcopenhagen.netlify.com) and our [github organization](https://github.com/numeconcopenhagen)\n",
    "- Class each Tuesday 15-17\n",
    "- Class will be centered around DataCamp in the first three weeks.\n",
    "- Class will be centered around the [problem sets](https://github.com/numeconcopenhagen/exercises-2019/)\n",
    "- To be accepted for the exam please take a look at Jeppe's [lecture 1](https://github.com/NumEconCopenhagen/lectures-2019/blob/master/01/01_Introduction.pdf)"
   ]
  },
  {
   "cell_type": "markdown",
   "metadata": {
    "slideshow": {
     "slide_type": "slide"
    }
   },
   "source": [
    "# TODAY"
   ]
  },
  {
   "cell_type": "markdown",
   "metadata": {
    "slideshow": {
     "slide_type": "subslide"
    }
   },
   "source": [
    "# TODAY\n",
    "\n",
    "- Ensure that you install [Anaconda](https://anaconda.org/), [git](https://git-scm.com/) and [Visual Studio Code](https://code.visualstudio.com/)\n",
    "- Work on DataCamp\n",
    "    - You must have completed the following courses no later than 24th of February\n",
    "        - Intro to Python for Data Science\n",
    "        - Intermediate Python for Data Science\n",
    "        - Python Data Science Toolbox (Part 1)\n",
    "        - Python Data Science Toolbox (Part 2)"
   ]
  }
 ],
 "metadata": {
  "kernelspec": {
   "display_name": "Python 3",
   "language": "python",
   "name": "python3"
  },
  "language_info": {
   "codemirror_mode": {
    "name": "ipython",
    "version": 3
   },
   "file_extension": ".py",
   "mimetype": "text/x-python",
   "name": "python",
   "nbconvert_exporter": "python",
   "pygments_lexer": "ipython3",
   "version": "3.7.1"
  },
  "livereveal": {
   "autolaunch": true,
   "footer": "<h3 style='padding-left:3cm';>Introduction to programming and Numerical analysis - Class 3 - Jakob Jul Elben - 05/02/2019 </h3>"
  },
  "toc": {
   "base_numbering": 1,
   "nav_menu": {},
   "number_sections": false,
   "sideBar": true,
   "skip_h1_title": false,
   "title_cell": "Table of Contents",
   "title_sidebar": "Contents",
   "toc_cell": false,
   "toc_position": {},
   "toc_section_display": true,
   "toc_window_display": false
  }
 },
 "nbformat": 4,
 "nbformat_minor": 2
}
